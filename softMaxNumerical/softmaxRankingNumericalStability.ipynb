{
  "nbformat": 4,
  "nbformat_minor": 0,
  "metadata": {
    "colab": {
      "provenance": []
    },
    "kernelspec": {
      "name": "python3",
      "display_name": "Python 3"
    },
    "language_info": {
      "name": "python"
    }
  },
  "cells": [
    {
      "cell_type": "markdown",
      "source": [
        "# Ranking with softmax: Numerical stability show case\n",
        "\n",
        "A basic test for the post [Numerical stability showcase: Ranking with SoftMax or Boltzmann factor](https://memosisland.blogspot.com/2025/04/softmax-numerical-stability.html)\n",
        "\n"
      ],
      "metadata": {
        "id": "6Lf510BCjrJg"
      }
    },
    {
      "cell_type": "code",
      "source": [
        "import torch\n",
        "\n",
        "List = list\n",
        "Tensor = torch.tensor\n",
        "\n",
        "def get_softmax(scores:List, log :bool = False) -> Tensor:\n",
        "  \"\"\"\n",
        "\n",
        "  Compute softmax of a list\n",
        "\n",
        "  Defaults to LogSoftMax\n",
        "\n",
        "  \"\"\"\n",
        "  scores = torch.tensor(scores)\n",
        "  if log:\n",
        "    scores = torch.log_softmax(scores, dim=0)\n",
        "  else:\n",
        "    scores = torch.softmax(scores, dim=0)\n",
        "  return  scores\n",
        "\n"
      ],
      "metadata": {
        "id": "W2FpILqtSXWQ"
      },
      "execution_count": null,
      "outputs": []
    },
    {
      "cell_type": "code",
      "source": [
        "scores = [1.4, 1.5, 1.6, 30]\n",
        "get_softmax(scores), get_softmax(scores, log=True)"
      ],
      "metadata": {
        "colab": {
          "base_uri": "https://localhost:8080/"
        },
        "id": "KeT5IvQtSe6z",
        "outputId": "a22b61ff-0ea9-4dd7-c5a3-ac36619a2956"
      },
      "execution_count": null,
      "outputs": [
        {
          "output_type": "execute_result",
          "data": {
            "text/plain": [
              "(tensor([3.7947e-13, 4.1938e-13, 4.6349e-13, 1.0000e+00]),\n",
              " tensor([-28.6000, -28.5000, -28.4000,   0.0000]))"
            ]
          },
          "metadata": {},
          "execution_count": 9
        }
      ]
    },
    {
      "cell_type": "markdown",
      "source": [
        "Why this instability? This is due to $1/\\sum_{i} \\exp(x_i)$ diverges quickly."
      ],
      "metadata": {
        "id": "yw6hL5DbZ0cS"
      }
    },
    {
      "cell_type": "code",
      "source": [],
      "metadata": {
        "id": "rWPfx-wmtp6c"
      },
      "execution_count": null,
      "outputs": []
    }
  ]
}